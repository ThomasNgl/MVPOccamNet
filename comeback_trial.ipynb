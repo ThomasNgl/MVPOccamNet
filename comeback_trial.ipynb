{
 "cells": [
  {
   "cell_type": "code",
   "execution_count": null,
   "metadata": {},
   "outputs": [],
   "source": [
    "import torch \n",
    "import numpy as np\n",
    "from OccamNet import OccamNet\n",
    "from ONTrainer import ONTrainer\n",
    "from Loss import Loss\n",
    "from cocob import COCOBBackprop \n",
    "from bases import *"
   ]
  },
  {
   "cell_type": "code",
   "execution_count": null,
   "metadata": {},
   "outputs": [],
   "source": [
    "nb_elements = 200\n",
    "X = [[np.array([i]), np.array([i,i,i])] for i in range(nb_elements)]\n",
    "Y = [[np.sin(x)+np.cos(x)] for x in range(nb_elements)]"
   ]
  },
  {
   "cell_type": "code",
   "execution_count": null,
   "metadata": {},
   "outputs": [],
   "source": [
    "model = OccamNet(input_dims = [1, 3], \n",
    "                 output_dims = [1], \n",
    "                 activation_layers = [[on_sin(), on_cos(), on_sum(), on_sub()], \n",
    "                                      [on_sin(), on_cos(), on_sum(), on_sub()], \n",
    "                                      [on_identity()]], \n",
    "                temperatures = [0.01, 0.01, 0.01], \n",
    "                skip_connections=True, \n",
    "                is_none=False)\n",
    "criterion = Loss(std=0.01)\n",
    "optimizer = COCOBBackprop(model.parameters())\n",
    "\n",
    "trainer = ONTrainer(model, criterion, optimizer)"
   ]
  },
  {
   "cell_type": "code",
   "execution_count": null,
   "metadata": {},
   "outputs": [],
   "source": [
    "model.path_to_a_index"
   ]
  },
  {
   "cell_type": "code",
   "execution_count": null,
   "metadata": {},
   "outputs": [],
   "source": [
    "model.index_to_path_index"
   ]
  },
  {
   "cell_type": "code",
   "execution_count": null,
   "metadata": {},
   "outputs": [],
   "source": [
    "for p in model.parameters():\n",
    "    print(p)"
   ]
  },
  {
   "cell_type": "code",
   "execution_count": null,
   "metadata": {},
   "outputs": [],
   "source": [
    "model.get_proba_distributions()"
   ]
  },
  {
   "cell_type": "code",
   "execution_count": null,
   "metadata": {},
   "outputs": [],
   "source": [
    "trained_model = trainer.fit(X, Y, \n",
    "                            max_epochs = 10, \n",
    "                            nb_sampled_paths = 200)"
   ]
  },
  {
   "cell_type": "code",
   "execution_count": null,
   "metadata": {},
   "outputs": [],
   "source": [
    "trained_model.samples_paths_and_probas(nb_sampled_paths=1)\n",
    "\n"
   ]
  },
  {
   "cell_type": "code",
   "execution_count": null,
   "metadata": {},
   "outputs": [],
   "source": [
    "trained_model.get_proba_distributions()"
   ]
  }
 ],
 "metadata": {
  "kernelspec": {
   "display_name": "autoneuro",
   "language": "python",
   "name": "python3"
  },
  "language_info": {
   "codemirror_mode": {
    "name": "ipython",
    "version": 3
   },
   "file_extension": ".py",
   "mimetype": "text/x-python",
   "name": "python",
   "nbconvert_exporter": "python",
   "pygments_lexer": "ipython3",
   "version": "3.10.11"
  }
 },
 "nbformat": 4,
 "nbformat_minor": 2
}
