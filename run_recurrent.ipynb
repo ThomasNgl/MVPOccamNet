{
 "cells": [
  {
   "cell_type": "code",
   "execution_count": null,
   "metadata": {},
   "outputs": [],
   "source": [
    "import torch \n",
    "import numpy as np\n",
    "from Loss import Loss\n",
    "from OccamNet import OccamNet\n",
    "from Trainer import ONTrainer\n",
    "from cocob import COCOBBackprop \n",
    "from bases import *\n",
    "#nb_elements = 20\n",
    "#X = np.random.randint(2, size=(nb_elements, 1))\n",
    "X = [[np.array([i])] for i in range(10)]\n",
    "Y = [[np.sin(x)+np.cos(x)] for x in range(10)]"
   ]
  },
  {
   "cell_type": "code",
   "execution_count": null,
   "metadata": {},
   "outputs": [],
   "source": [
    "model = OccamNet([1], [1], \n",
    "                    [[on_sin(), on_cos(), on_sum(), on_sub()], \n",
    "                    [on_sin(), on_cos(), on_sum(), on_sub()], \n",
    "                    [on_identity()]], \n",
    "                    [0.01, 0.01, 0.01], \n",
    "                    skip_connections=True, is_none=False)\n",
    "criterion = Loss(0.01)\n",
    "optimizer = COCOBBackprop(model.parameters())\n",
    "trainer = ONTrainer(model, criterion, optimizer)\n",
    "\n",
    "trained_model = trainer.fit(X, Y, 10, 200)"
   ]
  },
  {
   "cell_type": "code",
   "execution_count": null,
   "metadata": {},
   "outputs": [],
   "source": [
    "list(trained_model.parameters())"
   ]
  },
  {
   "cell_type": "code",
   "execution_count": null,
   "metadata": {},
   "outputs": [],
   "source": [
    "trained_model.samples_paths_and_probas(3)\n"
   ]
  },
  {
   "cell_type": "code",
   "execution_count": null,
   "metadata": {},
   "outputs": [],
   "source": [
    "import copy\n",
    "nb_sampled_paths = 1\n",
    "\n",
    "#X = [x.append(np.array([None])) for x in X]\n",
    "X = [[copy.deepcopy(x) for _ in range(nb_sampled_paths)] for x in X]\n",
    "# Reshape Y so that shape == (nb elements, output dim).\n",
    "Y = torch.tensor(Y, requires_grad = False)\n",
    "\n",
    "the_paths, the_keys_probas, the_keys_path2 = trained_model.samples_paths_and_probas(nb_sampled_paths)\n",
    "\n",
    "for x, y in zip(X, Y):\n",
    "    # This imply to compute the pred of the model for each sampled path\n",
    "    pred = trained_model.forward(x, the_paths) # shape == (nb sampled paths, output dim)\n",
    "    print(pred, y)"
   ]
  },
  {
   "cell_type": "code",
   "execution_count": null,
   "metadata": {},
   "outputs": [],
   "source": [
    "\n",
    "print([i.item() for i in (trained_model.forward(X, matrix_pathes)[0])])\n",
    "print(Y[:n].flatten())\n",
    "the_paths = trained_model.from_matrix_to_paths(matrix_pathes)\n",
    "\n",
    "print(the_paths)"
   ]
  },
  {
   "cell_type": "code",
   "execution_count": null,
   "metadata": {},
   "outputs": [],
   "source": [
    "print(trained_model.forward(X, matrix_pathes)[1])\n",
    "print(W[:n])"
   ]
  },
  {
   "cell_type": "code",
   "execution_count": null,
   "metadata": {},
   "outputs": [],
   "source": [
    "trained_model.get_proba_distributions()"
   ]
  }
 ],
 "metadata": {
  "kernelspec": {
   "display_name": "pdm",
   "language": "python",
   "name": "python3"
  },
  "language_info": {
   "codemirror_mode": {
    "name": "ipython",
    "version": 3
   },
   "file_extension": ".py",
   "mimetype": "text/x-python",
   "name": "python",
   "nbconvert_exporter": "python",
   "pygments_lexer": "ipython3",
   "version": "3.10.11"
  },
  "orig_nbformat": 4
 },
 "nbformat": 4,
 "nbformat_minor": 2
}
