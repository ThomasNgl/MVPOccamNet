{
 "cells": [
  {
   "cell_type": "code",
   "execution_count": 1,
   "metadata": {},
   "outputs": [],
   "source": [
    "import torch \n",
    "import numpy as np\n",
    "from Loss import Loss\n",
    "from RON import RecurrentOccamNet\n",
    "from RONTrainer import RONTrainer\n",
    "from cocob import COCOBBackprop \n",
    "from bases import *\n",
    "import pandas as pd\n",
    "\n",
    "alpha = 0.1\n",
    "NUM_STEPS = 10  \n",
    "\n",
    "rewards = pd.read_csv('/Users/thomasnegrello/Desktop/autoneuro/data_to_share/classical/overshadowing/input/rewards.csv', header=None).to_numpy()\n",
    "observations = pd.read_csv('/Users/thomasnegrello/Desktop/autoneuro/data_to_share/classical/overshadowing/input/states.csv', header=None).to_numpy()\n",
    "rpes = pd.read_csv(f'/Users/thomasnegrello/Desktop/autoneuro/data_to_share/classical/overshadowing/output/RW_alpha={alpha}00/rpes.csv', header=None)  \n",
    "observations = observations.copy()\n",
    "observations = np.concatenate((np.zeros((1, observations.shape[1])), observations[:-1,:]), axis=0)\n",
    "\n",
    "# input data\n",
    "X = np.concatenate((rewards, observations), axis=1)[:NUM_STEPS,:]\n",
    "\n",
    "\n",
    "# output data\n",
    "y = rpes.to_numpy()[:NUM_STEPS,:]\n",
    "y *= alpha  "
   ]
  },
  {
   "cell_type": "code",
   "execution_count": 2,
   "metadata": {},
   "outputs": [],
   "source": [
    "input_dim = X.shape[1]\n",
    "output_dim = y.shape[1]\n",
    "hidden_dim = X.shape[1]"
   ]
  },
  {
   "cell_type": "code",
   "execution_count": 3,
   "metadata": {},
   "outputs": [
    {
     "name": "stdout",
     "output_type": "stream",
     "text": [
      "51 1\n"
     ]
    }
   ],
   "source": [
    "print(input_dim, output_dim)"
   ]
  },
  {
   "cell_type": "code",
   "execution_count": 4,
   "metadata": {},
   "outputs": [
    {
     "name": "stderr",
     "output_type": "stream",
     "text": [
      "/Users/thomasnegrello/Desktop/autoneuro/occamnet_branches/brouillon/trial/RONTrainer.py:28: UserWarning: Creating a tensor from a list of numpy.ndarrays is extremely slow. Please consider converting the list to a single numpy.ndarray with numpy.array() before converting to a tensor. (Triggered internally at /Users/runner/work/pytorch/pytorch/pytorch/torch/csrc/utils/tensor_new.cpp:248.)\n",
      "  Y = torch.tensor([[y] * nb_sampled_paths for y in Y])\n",
      "/Users/thomasnegrello/Desktop/autoneuro/occamnet_branches/brouillon/trial/Loss.py:16: UserWarning: To copy construct from a tensor, it is recommended to use sourceTensor.clone().detach() or sourceTensor.clone().detach().requires_grad_(True), rather than torch.tensor(sourceTensor).\n",
      "  mse = torch.tensor((prediction-target)**2, requires_grad=False)\n"
     ]
    }
   ],
   "source": [
    "r_model = RecurrentOccamNet(input_dim, hidden_dim, output_dim,\n",
    " [[on_sum(), on_sub(),on_mul(),on_div()], \n",
    " [on_sum(), on_sub(),on_mul(),on_div()],\n",
    " [on_sum(), on_sub(),on_mul(),on_div()],\n",
    " [on_identity()]*(output_dim+hidden_dim)], \n",
    " [0.01, 0.01, 0.01, 0.01], \n",
    " skip_connections=False, is_none=False)\n",
    "\n",
    "criterion = Loss(0.1)\n",
    "optimizer = COCOBBackprop(r_model.parameters())\n",
    "trainer = RONTrainer(r_model, criterion, optimizer)\n",
    "\n",
    "trained_model = trainer.fit(X, y, 10, 3)"
   ]
  },
  {
   "cell_type": "code",
   "execution_count": 5,
   "metadata": {},
   "outputs": [
    {
     "data": {
      "text/plain": [
       "[tensor([[62, 61, 83, 33,  5,  5, 52,  7],\n",
       "         [36, 60, 11, 54, 86, 24,  1, 75],\n",
       "         [93,  0, 88,  6, 77, 78,  1,  8]]),\n",
       " tensor([[3, 3, 3, 3, 2, 3, 2, 0],\n",
       "         [2, 1, 2, 3, 2, 1, 0, 1],\n",
       "         [2, 3, 1, 1, 3, 2, 3, 1]]),\n",
       " tensor([[0, 0, 1, 3, 1, 1, 2, 1],\n",
       "         [0, 3, 1, 3, 1, 0, 0, 2],\n",
       "         [1, 3, 1, 3, 1, 2, 3, 1]]),\n",
       " tensor([[2, 2, 2, 0, 1, 1, 1, 3, 2, 2, 1, 1, 3, 1, 1, 0, 2, 1, 3, 0, 1, 1, 0, 1,\n",
       "          0, 3, 3, 2, 2, 1, 0, 0, 3, 3, 2, 0, 0, 3, 1, 2, 2, 2, 0, 1, 2, 0, 2, 0,\n",
       "          3, 1, 1, 1],\n",
       "         [0, 3, 1, 0, 1, 0, 0, 3, 2, 2, 1, 2, 3, 0, 2, 2, 1, 3, 2, 2, 0, 3, 2, 3,\n",
       "          2, 2, 1, 0, 2, 0, 3, 2, 1, 3, 0, 2, 0, 3, 2, 1, 3, 0, 2, 2, 2, 2, 3, 0,\n",
       "          2, 0, 2, 0],\n",
       "         [3, 1, 3, 2, 1, 2, 3, 1, 2, 1, 2, 1, 1, 3, 0, 3, 3, 2, 3, 0, 3, 2, 0, 1,\n",
       "          0, 2, 1, 1, 1, 2, 2, 3, 3, 3, 2, 2, 3, 3, 3, 2, 0, 1, 3, 1, 3, 0, 1, 1,\n",
       "          1, 3, 0, 0]])]"
      ]
     },
     "execution_count": 5,
     "metadata": {},
     "output_type": "execute_result"
    }
   ],
   "source": [
    "paths = trained_model.sample_paths(3)\n",
    "paths"
   ]
  },
  {
   "cell_type": "code",
   "execution_count": 6,
   "metadata": {},
   "outputs": [
    {
     "data": {
      "text/plain": [
       "torch.Size([3, 52])"
      ]
     },
     "execution_count": 6,
     "metadata": {},
     "output_type": "execute_result"
    }
   ],
   "source": [
    "paths[-1].shape"
   ]
  }
 ],
 "metadata": {
  "kernelspec": {
   "display_name": "autoneuro",
   "language": "python",
   "name": "python3"
  },
  "language_info": {
   "codemirror_mode": {
    "name": "ipython",
    "version": 3
   },
   "file_extension": ".py",
   "mimetype": "text/x-python",
   "name": "python",
   "nbconvert_exporter": "python",
   "pygments_lexer": "ipython3",
   "version": "3.10.11"
  },
  "orig_nbformat": 4
 },
 "nbformat": 4,
 "nbformat_minor": 2
}
